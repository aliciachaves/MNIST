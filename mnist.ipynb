{
  "cells": [
    {
      "cell_type": "markdown",
      "metadata": {
        "id": "view-in-github",
        "colab_type": "text"
      },
      "source": [
        "<a href=\"https://colab.research.google.com/github/aliciachaves/MNIST/blob/main/mnist.ipynb\" target=\"_parent\"><img src=\"https://colab.research.google.com/assets/colab-badge.svg\" alt=\"Open In Colab\"/></a>"
      ]
    },
    {
      "cell_type": "code",
      "execution_count": null,
      "metadata": {
        "id": "N1Zgq1t5DqPO"
      },
      "outputs": [],
      "source": [
        "import numpy as np\n",
        "from tensorflow import keras"
      ]
    },
    {
      "cell_type": "code",
      "execution_count": null,
      "metadata": {
        "id": "qp8AXurbEO4e"
      },
      "outputs": [],
      "source": [
        "from keras.datasets import mnist"
      ]
    },
    {
      "cell_type": "code",
      "execution_count": null,
      "metadata": {
        "id": "JmFXhif1FIG0"
      },
      "outputs": [],
      "source": [
        "(train_X, train_y), (test_X, test_y) = mnist.load_data()"
      ]
    },
    {
      "cell_type": "code",
      "execution_count": null,
      "metadata": {
        "colab": {
          "base_uri": "https://localhost:8080/"
        },
        "id": "t43rlmJlFSqg",
        "outputId": "32128157-d5b9-48be-ca14-60289d6a1a0a"
      },
      "outputs": [
        {
          "output_type": "stream",
          "name": "stdout",
          "text": [
            "X_train: (60000, 28, 28)\n",
            "Y_train: (60000,)\n",
            "X_test:  (10000, 28, 28)\n",
            "Y_test:  (10000,)\n"
          ]
        }
      ],
      "source": [
        "print('X_train: ' + str(train_X.shape)) #60000 imagens com dimensões 28x28\n",
        "print('Y_train: ' + str(train_y.shape))\n",
        "print('X_test:  '  + str(test_X.shape)) #10000 imagens\n",
        "print('Y_test:  '  + str(test_y.shape))"
      ]
    },
    {
      "cell_type": "code",
      "execution_count": null,
      "metadata": {
        "colab": {
          "base_uri": "https://localhost:8080/",
          "height": 507
        },
        "id": "BAM2JQmUGHm_",
        "outputId": "e8a7e1ce-e111-437e-ffd4-9d736d4871f2"
      },
      "outputs": [
        {
          "output_type": "display_data",
          "data": {
            "text/plain": [
              "<Figure size 432x288 with 1 Axes>"
            ],
            "image/png": "[encoded data removed]"
          },
          "metadata": {
            "needs_background": "light"
          }
        },
        {
          "output_type": "display_data",
          "data": {
            "text/plain": [
              "<Figure size 432x288 with 1 Axes>"
            ],
            "image/png": "[encoded data removed]"
          },
          "metadata": {
            "needs_background": "light"
          }
        },
        {
          "output_type": "display_data",
          "data": {
            "text/plain": [
              "<Figure size 432x288 with 1 Axes>"
            ],
            "image/png": "[encoded data removed]"
          },
          "metadata": {
            "needs_background": "light"
          }
        },
        {
          "output_type": "display_data",
          "data": {
            "text/plain": [
              "<Figure size 432x288 with 1 Axes>"
            ],
            "image/png": "[encoded data removed]"
          },
          "metadata": {
            "needs_background": "light"
          }
        },
        {
          "output_type": "display_data",
          "data": {
            "text/plain": [
              "<Figure size 432x288 with 1 Axes>"
            ],
            "image/png": "[encoded data removed]"
          },
          "metadata": {
            "needs_background": "light"
          }
        }
      ],
      "source": [
        "from matplotlib import pyplot\n",
        "for i in range(5):\n",
        "  pyplot.subplot(330 + 1 + i)\n",
        "  pyplot.imshow(train_X[i], cmap=pyplot.get_cmap('gray')) #default: 'viridis'\n",
        "  pyplot.show()"
      ]
    },
    {
      "cell_type": "code",
      "source": [
        "for i in range(5):\n",
        "  pyplot.subplot(330 + 1 + i)\n",
        "  pyplot.imshow(test_X[i], cmap=pyplot.get_cmap('gray')) #default: 'viridis'\n",
        "  pyplot.show()"
      ],
      "metadata": {
        "colab": {
          "base_uri": "https://localhost:8080/",
          "height": 507
        },
        "id": "hoH4j4cSoPp5",
        "outputId": "a1739ce0-e57e-4eb5-bd4c-73d10e5662ce"
      },
      "execution_count": null,
      "outputs": [
        {
          "output_type": "display_data",
          "data": {
            "text/plain": [
              "<Figure size 432x288 with 1 Axes>"
            ],
            "image/png": "[encoded data removed]"
          },
          "metadata": {
            "needs_background": "light"
          }
        },
        {
          "output_type": "display_data",
          "data": {
            "text/plain": [
              "<Figure size 432x288 with 1 Axes>"
            ],
            "image/png": "[encoded data removed]"
          },
          "metadata": {
            "needs_background": "light"
          }
        },
        {
          "output_type": "display_data",
          "data": {
            "text/plain": [
              "<Figure size 432x288 with 1 Axes>"
            ],
            "image/png": "[encoded data removed]"
          },
          "metadata": {
            "needs_background": "light"
          }
        },
        {
          "output_type": "display_data",
          "data": {
            "text/plain": [
              "<Figure size 432x288 with 1 Axes>"
            ],
            "image/png": "[encoded data removed]"
          },
          "metadata": {
            "needs_background": "light"
          }
        },
        {
          "output_type": "display_data",
          "data": {
            "text/plain": [
              "<Figure size 432x288 with 1 Axes>"
            ],
            "image/png": "[encoded data removed]"
          },
          "metadata": {
            "needs_background": "light"
          }
        }
      ]
    },
    {
      "cell_type": "code",
      "execution_count": null,
      "metadata": {
        "id": "m6Myntz4H69y"
      },
      "outputs": [],
      "source": [
        "# Normalizar as imagens de [0, 255] para [-0.5, 0.5] -> valores pequenos e centrais normalmente geram melhores resultados\n",
        "train_X = (train_X / 255) - 0.5\n",
        "test_X = (test_X / 255) - 0.5"
      ]
    },
    {
      "cell_type": "code",
      "execution_count": null,
      "metadata": {
        "colab": {
          "base_uri": "https://localhost:8080/"
        },
        "id": "6v7X56_xITF6",
        "outputId": "1936b9b8-dc72-43aa-c6bd-c38bb8e00eba"
      },
      "outputs": [
        {
          "output_type": "stream",
          "name": "stdout",
          "text": [
            "(60000, 28, 28, 1)\n",
            "(10000, 28, 28, 1)\n"
          ]
        }
      ],
      "source": [
        "#   Keras requer uma terceira dimensão -> transforma (28,28) em (28,28,1)\n",
        "train_X = np.expand_dims(train_X, axis=3)\n",
        "test_X = np.expand_dims(test_X, axis=3)\n",
        "\n",
        "print(train_X.shape)\n",
        "print(test_X.shape)"
      ]
    },
    {
      "cell_type": "markdown",
      "metadata": {
        "id": "xuoCP90JXJi2"
      },
      "source": [
        "**Building The Model**"
      ]
    },
    {
      "cell_type": "code",
      "execution_count": null,
      "metadata": {
        "id": "syHbAz6ZIpPf"
      },
      "outputs": [],
      "source": [
        "from keras.models import Sequential\n",
        "from keras.layers import Conv2D, MaxPooling2D, Dense, Flatten # convolution layers"
      ]
    },
    {
      "cell_type": "code",
      "execution_count": null,
      "metadata": {
        "id": "oVUSyvsIQv5S"
      },
      "outputs": [],
      "source": [
        "num_filters = 8 # quantidade de filtros Conv\n",
        "filter_size = 3 # dimensão do filtro Conv2D 3x3\n",
        "pool_size = 2 # tamanho do maxpooling"
      ]
    },
    {
      "cell_type": "code",
      "execution_count": null,
      "metadata": {
        "id": "35hs0E7OQ3po"
      },
      "outputs": [],
      "source": [
        "model = Sequential([\n",
        "\n",
        "  Conv2D(num_filters, filter_size, input_shape=(28, 28, 1)), # conjunto de filtros que individualmente produzem um activation map 2D -> indicam se um neuron deve ser ativado ou não\n",
        "\n",
        "  MaxPooling2D(pool_size=pool_size), # reduz o \"tamanho espacial\" da imagem, a quantidade de parâmetros e controla o overfitting\n",
        "\n",
        "  Flatten(),\n",
        "\n",
        "  Dense(10, activation='softmax'), # 10 classes para 10 possibilidades de números (0 a 9)\n",
        "])"
      ]
    },
    {
      "cell_type": "markdown",
      "metadata": {
        "id": "BLNrK7fRXVzy"
      },
      "source": [
        "**Compiling the Model**"
      ]
    },
    {
      "cell_type": "code",
      "execution_count": null,
      "metadata": {
        "id": "MP2FecwQXcgx"
      },
      "outputs": [],
      "source": [
        "model.compile(\n",
        "  'adam', # otimizador\n",
        "  loss='categorical_crossentropy', # loss function\n",
        "  metrics=['accuracy'], # lista de métricas\n",
        ")"
      ]
    },
    {
      "cell_type": "markdown",
      "metadata": {
        "id": "MdrAMepmZKab"
      },
      "source": [
        "**Training the Model**"
      ]
    },
    {
      "cell_type": "code",
      "execution_count": null,
      "metadata": {
        "id": "zesHlYkrZOeL"
      },
      "outputs": [],
      "source": [
        "from keras.utils import to_categorical\n"
      ]
    },
    {
      "cell_type": "code",
      "execution_count": null,
      "metadata": {
        "colab": {
          "base_uri": "https://localhost:8080/"
        },
        "id": "IWODKBXaZtYq",
        "outputId": "9ae6ba13-7a2a-4626-eedb-d5fd4ec5a07f"
      },
      "outputs": [
        {
          "output_type": "stream",
          "name": "stdout",
          "text": [
            "Epoch 1/3\n",
            "1875/1875 [==============================] - 31s 17ms/step - loss: 0.2555 - accuracy: 0.9257 - val_loss: 0.1797 - val_accuracy: 0.9475\n",
            "Epoch 2/3\n",
            "1875/1875 [==============================] - 20s 11ms/step - loss: 0.1572 - accuracy: 0.9549 - val_loss: 0.1249 - val_accuracy: 0.9609\n",
            "Epoch 3/3\n",
            "1875/1875 [==============================] - 19s 10ms/step - loss: 0.1177 - accuracy: 0.9664 - val_loss: 0.1011 - val_accuracy: 0.9698\n"
          ]
        },
        {
          "output_type": "execute_result",
          "data": {
            "text/plain": [
              "<keras.callbacks.History at 0x7f588de5a9a0>"
            ]
          },
          "metadata": {},
          "execution_count": 75
        }
      ],
      "source": [
        "model.fit(\n",
        "  train_X, # dados input\n",
        "  to_categorical(train_y), # to_categorical converte em binário -> label y é o certo: sim ou não\n",
        "  epochs=3, # número de vezes que os dados serão testados pela rede neural\n",
        "  validation_data=(test_X, to_categorical(test_y)), # avalia a acurácia e erro no final de cada epoch\n",
        ")"
      ]
    },
    {
      "cell_type": "code",
      "execution_count": null,
      "metadata": {
        "id": "MO0SJN6pcebW"
      },
      "outputs": [],
      "source": [
        "model.save_weights('cnn.h5') # caminho para o arquivo onde serão guardados os valores dos pesos (weights)"
      ]
    },
    {
      "cell_type": "code",
      "execution_count": null,
      "metadata": {
        "colab": {
          "base_uri": "https://localhost:8080/"
        },
        "id": "U6a7jnX4br_B",
        "outputId": "2f652829-6f5c-4677-999c-d09e65b5092e"
      },
      "outputs": [
        {
          "output_type": "stream",
          "name": "stdout",
          "text": [
            "1/1 [==============================] - 0s 20ms/step\n",
            "[7 2 1 0 4]\n",
            "[7 2 1 0 4]\n"
          ]
        }
      ],
      "source": [
        "predictions = model.predict(test_X[:5]) # fazer predição nas primeiras 5 imagens do dataset (5, 0, 4, 1, 9)\n",
        "\n",
        "print(np.argmax(predictions, axis=1))\n",
        "\n",
        "print(test_y[:5]) # verificar se as predições estão certas"
      ]
    }
  ],
  "metadata": {
    "colab": {
      "provenance": [],
      "authorship_tag": "ABX9TyPkz5QLN17e/5HXpgTJKfyC",
      "include_colab_link": true
    },
    "kernelspec": {
      "display_name": "Python 3",
      "name": "python3"
    },
    "language_info": {
      "name": "python"
    }
  },
  "nbformat": 4,
  "nbformat_minor": 0
}